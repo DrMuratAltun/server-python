{
 "cells": [
  {
   "cell_type": "code",
   "execution_count": null,
   "id": "ba898f89",
   "metadata": {},
   "outputs": [],
   "source": [
    "#klasörde oluşturduğum sayfayı sunucuda host ediyor\n",
    "!python -m http.server 8000"
   ]
  }
 ],
 "metadata": {
  "kernelspec": {
   "display_name": "Python 3 (ipykernel)",
   "language": "python",
   "name": "python3"
  },
  "language_info": {
   "codemirror_mode": {
    "name": "ipython",
    "version": 3
   },
   "file_extension": ".py",
   "mimetype": "text/x-python",
   "name": "python",
   "nbconvert_exporter": "python",
   "pygments_lexer": "ipython3",
   "version": "3.11.5"
  }
 },
 "nbformat": 4,
 "nbformat_minor": 5
}
